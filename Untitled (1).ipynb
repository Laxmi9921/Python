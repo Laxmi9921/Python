{
  "nbformat": 4,
  "nbformat_minor": 0,
  "metadata": {
    "colab": {
      "provenance": []
    },
    "kernelspec": {
      "name": "python3",
      "display_name": "Python 3"
    },
    "language_info": {
      "name": "python"
    }
  },
  "cells": [
    {
      "cell_type": "code",
      "execution_count": 2,
      "metadata": {
        "id": "uVZXDDfhv7xF"
      },
      "outputs": [],
      "source": [
        "# Python\n"
      ]
    },
    {
      "cell_type": "code",
      "source": [
        "print(\"Hello, World\")"
      ],
      "metadata": {
        "colab": {
          "base_uri": "https://localhost:8080/"
        },
        "id": "d-TLsfooxP_c",
        "outputId": "a8f6449c-88b3-4246-f7ce-2591bcca5a36"
      },
      "execution_count": 3,
      "outputs": [
        {
          "output_type": "stream",
          "name": "stdout",
          "text": [
            "Hello, World\n"
          ]
        }
      ]
    },
    {
      "cell_type": "code",
      "source": [
        "print(\"Laxmi\")\n",
        "print(\"25\")"
      ],
      "metadata": {
        "colab": {
          "base_uri": "https://localhost:8080/"
        },
        "id": "HYTP90MVxjHx",
        "outputId": "3a8adab1-5f4d-4f43-84a1-5da4ca6a8059"
      },
      "execution_count": 4,
      "outputs": [
        {
          "output_type": "stream",
          "name": "stdout",
          "text": [
            "Laxmi\n",
            "25\n"
          ]
        }
      ]
    },
    {
      "cell_type": "code",
      "source": [
        "print(\"List of Python keywords;\")"
      ],
      "metadata": {
        "colab": {
          "base_uri": "https://localhost:8080/"
        },
        "id": "iPN3p181xuQV",
        "outputId": "ee806278-5b3e-4c1f-cf92-f8b770a0411f"
      },
      "execution_count": 5,
      "outputs": [
        {
          "output_type": "stream",
          "name": "stdout",
          "text": [
            "List of Python keywords;\n"
          ]
        }
      ]
    },
    {
      "cell_type": "code",
      "source": [
        "input(\"Enter a word to checkif it's a Python keyword;\")"
      ],
      "metadata": {
        "id": "7TOpIFRjzrR9"
      },
      "execution_count": null,
      "outputs": []
    },
    {
      "cell_type": "code",
      "source": [
        "# Creating a list\n",
        "my_list = [10, 20, 30]\n",
        "print(\"Original list:\", my_list)\n",
        "# Modifying an element in the list\n",
        "my_list[1] = 200\n",
        "print(\"Modified list:\", my_list)\n",
        "# Creating a tuple\n",
        "my_tuple=(10, 20, 30)\n",
        "print(\"\\noriginal tuplr;\", my_tuple)\n",
        "# Trying to modify an  element in the tuple\n",
        "try;\n",
        "    my_tuple[1] = 200\n",
        "    except TypeError as e:\n",
        "       print(\"Error when trying to modify tuple:\", e)"
      ],
      "metadata": {
        "id": "LLEQKhHIz9TA"
      },
      "execution_count": null,
      "outputs": []
    },
    {
      "cell_type": "code",
      "source": [
        "# Program to perform basic arithmetic operations on two numbers\n",
        "print(f\"Addition: {num1} + {num2} = {addition}\")\n",
        "print(f\"Subtraction: {num1} + {num2} = {Subtraction}\")\n",
        "print(f\"Multiplication: {num1} + {num2} = {multiplication}\")\n",
        "print(f\"Division: {num1} + {num2} = {division}\")"
      ],
      "metadata": {
        "id": "wV82Jswh17Qm"
      },
      "execution_count": null,
      "outputs": []
    },
    {
      "cell_type": "code",
      "source": [
        "# Program to print numbers from 1 to 11 using a for loop\n",
        "for i in range(1, 11)\n",
        "     print(i)"
      ],
      "metadata": {
        "id": "dS_8yXkU4MbN"
      },
      "execution_count": null,
      "outputs": []
    },
    {
      "cell_type": "code",
      "source": [
        "# Program to find the sum of all even numbers between 1 and 50\n",
        "# Initialize sum\n",
        "event_sum = 0\n",
        "# Loop through numbers from 1 to 50\n",
        " for num in range(1, 51):\n",
        "     if num % 2 == 0:\n",
        "      even_sum += num\n",
        "# Display the result\n",
        "print(\"The sum of all even numbers between 1 and 50 is:\", even_sum)"
      ],
      "metadata": {
        "id": "a12hVbKR5ErS"
      },
      "execution_count": null,
      "outputs": []
    },
    {
      "cell_type": "code",
      "source": [],
      "metadata": {
        "id": "22aY1BDq6TAk"
      },
      "execution_count": null,
      "outputs": []
    }
  ]
}